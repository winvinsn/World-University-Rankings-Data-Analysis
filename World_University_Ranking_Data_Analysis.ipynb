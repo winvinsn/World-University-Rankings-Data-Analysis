{
 "cells": [
  {
   "cell_type": "markdown",
   "metadata": {
    "id": "eRJlna4NUOFA"
   },
   "source": [
    "# **World University Rankings 2025**\n",
    "\n",
    "### **Authors:**  \n",
    "Nguyen Ngo, Josh Ilko  \n",
    "Penn State University  \n",
    "DS 220 – Spring 2025  \n",
    "May 5, 2025\n"
   ]
  },
  {
   "cell_type": "markdown",
   "metadata": {
    "id": "sP3Eh_twIXdH"
   },
   "source": [
    "## **1. Problem Space**\n",
    "In this data analysis, we will answer exploratory questions about approximately 1,500 universities ranked by Quacquarelli Symonds (QS). The dataset includes numerous key indicators, including a school's name, location, region, 2024 and 2025 rankings, size, focus, status, and numerous other miscellaneous rankings, as well as an overall score. These factors provide a comprehensive representation and are taken into account as they were used to map out the overall placement of these institutions. The analysis of this dataset is aimed to provide insights for a range of stakeholders, including students, universities, administrators, etc."
   ]
  },
  {
   "cell_type": "markdown",
   "metadata": {
    "id": "1oHUYTjNIbkk"
   },
   "source": [
    "## **2. Dataset Overview**\n",
    "- **Source:** QS official release CSV (`data/QS World University Rankings 2025 (Top global universities).csv`) via Kaggle published on April 21st, 2025\n",
    "- **Key columns:** `rank`, `university`, `country`, `region`, `overall_score`, `citations`, `sustainability`, `academic_reputation`, `international_students_pct`, `type` (public/private), `size`.\n",
    "- **Relevance:** Columns map directly to our eight analysis questions.\n"
   ]
  },
  {
   "cell_type": "markdown",
   "metadata": {
    "id": "9HbAKOkSIfwN"
   },
   "source": [
    "## **3. Research Questions**\n",
    "1. How many of the top 100 universities are in each country?\n",
    "2. What is the average overall score of the top 600 universities in each region?\n",
    "3. Which universities that were ranked in 2024 have increased in rank in 2025, and by how much?\n",
    "4. How do sustainability scores between public and private universities compare?\n",
    "5. Which universities have a perfect academic reputation score?\n",
    "6. How many unversities of each size are there?\n",
    "7. Which unversities have the most cited research?\n",
    "8. Which unversities have the highest international student ratio?"
   ]
  },
  {
   "cell_type": "markdown",
   "metadata": {
    "id": "0NIrxX0xUhEM"
   },
   "source": [
    "## **4. Library Importation & Data Loading**"
   ]
  },
  {
   "cell_type": "code",
   "execution_count": null,
   "metadata": {},
   "outputs": [],
   "source": [
    "# import libraries\n",
    "import pandas as pd\n",
    "import matplotlib.pyplot as plt\n",
    "import numpy as np\n",
    "import seaborn as sns # for correlation heatmap\n",
    "\n",
    "%config InlineBackend.print_figure_kwargs = {'bbox_inches': 'tight'}\n",
    "%matplotlib inline\n",
    "import matplotlib.pyplot as plt\n",
    "plt.rcParams['figure.figsize'] = (6, 4)\n",
    "\n",
    "# load the data\n",
    "df = pd.read_csv(\n",
    "    \"data/QS World University Rankings 2025 (Top global universities).csv\",\n",
    "    encoding=\"latin1\"\n",
    ")\n",
    "\n",
    "# check rows and columns\n",
    "df.shape"
   ]
  },
  {
   "cell_type": "markdown",
   "metadata": {
    "id": "Dk0bpLxOVedY"
   },
   "source": [
    "## **5. Exploring Data & Data Cleaning**"
   ]
  },
  {
   "cell_type": "markdown",
   "metadata": {
    "id": "X3Iu-9MI_dAI"
   },
   "source": [
    "### Exploring Data\n",
    "Before conducting the analysis, inspecting the structure and contents of the data beforehand will guide the rest of the analysis process."
   ]
  },
  {
   "cell_type": "code",
   "execution_count": null,
   "metadata": {},
   "outputs": [],
   "source": [
    "# inspect first few rows\n",
    "df.head()\n",
    "# get column info\n",
    "df.info()\n",
    "# stats summary\n",
    "df.describe()"
   ]
  },
  {
   "cell_type": "markdown",
   "metadata": {
    "id": "OuEQfJX_nt19"
   },
   "source": [
    "We see 1,503 rows and 28 columns. The overall scores range roughly from 30 to 100."
   ]
  },
  {
   "cell_type": "markdown",
   "metadata": {
    "id": "mUl2H45Q_XO1"
   },
   "source": [
    "### Check For Null Values\n",
    "The first step in our data cleaning is to determine which columns have null values, how many null values they have, and how to deal with these columns."
   ]
  },
  {
   "cell_type": "code",
   "execution_count": null,
   "metadata": {},
   "outputs": [],
   "source": [
    "df.isnull().sum().sort_values(ascending=False)"
   ]
  },
  {
   "cell_type": "markdown",
   "metadata": {
    "id": "HSB2espZbuqC"
   },
   "source": [
    "### Clean the Data\n",
    "We will use two different methods to deal with columns with null values. For the \"Overall_Score\" column, we will only use this attribute to analyze the top 600 universities, as those are the schools that were given an overall score by QS. For all other columns, we will exclude rows with null values only for any queries involving the attribute in question. This will better maintain the integrity of the data than filling null values with the median or mean of the column, as carelessly filling values with summary statistics could misrepresent the outputs of our queries. Additionally, there are relatively few rows with null values for any given attribute in the grand scheme of the dataset, so the results of our queries will remain reliable."
   ]
  },
  {
   "cell_type": "code",
   "execution_count": null,
   "metadata": {},
   "outputs": [],
   "source": [
    "# Clean column names\n",
    "df.columns = df.columns.str.strip().str.lower()\n",
    "\n",
    "# Clean and convert the rank columns\n",
    "df[\"rank_2025\"] = df[\"rank_2025\"].astype(str).str.replace(\"=\", \"\").str.extract(r\"(\\d+)\").astype(\"Int64\")\n",
    "df[\"rank_2024\"] = df[\"rank_2024\"].astype(str).str.replace(\"=\", \"\").str.extract(r\"(\\d+)\").astype(\"Int64\")\n",
    "\n",
    "# Clean and convert the \"sustainability_score\" column\n",
    "df[\"sustainability_score\"] = pd.to_numeric(\n",
    "    df[\"sustainability_score\"]\n",
    "    .astype(str)\n",
    "    .str.replace(\"=\", \"\", regex=False),\n",
    "    errors=\"coerce\"\n",
    ")\n",
    "\n",
    "# Convert the \"overall_score\" column to numeric\n",
    "df[\"overall_score\"] = pd.to_numeric(df[\"overall_score\"], errors=\"coerce\")\n",
    "\n",
    "# Clean and convert \"rank\" columns with + signs\n",
    "rank_cols = [col for col in df.columns if \"rank\" in col.lower()]\n",
    "\n",
    "for col in rank_cols:\n",
    "    df[col] = pd.to_numeric(\n",
    "        df[col].astype(str).str.replace(\"+\", \"\", regex=False),\n",
    "        errors=\"coerce\"\n",
    "    )\n",
    "\n",
    "# Rename and fill values in the \"status\" column\n",
    "df[\"status\"] = df[\"status\"].replace({\n",
    "    \"A\": \"Public\",\n",
    "    \"B\": \"Private\",\n",
    "    \"C\": \"Unknown\"\n",
    "}).fillna(\"Unknown\")\n"
   ]
  },
  {
   "cell_type": "markdown",
   "metadata": {
    "id": "7XbeQPNqcAO7"
   },
   "source": [
    "To clean the data, we need to do a few things. First, we strip the column names of any white space and set them to lowercase to ensure easy access in future code. Then, we make sure that each value in the rank_2024 and rank_2025 columns is a single float value instead of a range like \"601-610\". After that, we clean the sustainability_score and any columns with \"rank\" in the name, removing any \"+\" or \"=\" signs in the cell values and ensuring the values are numeric. Finally, we improve the clarity of the status column, replacing values of \"A\", \"B\", and \"C\" with \"Public\", \"Private\", and \"Unkown\", respectively, as well as filling null values with \"Unknown\"."
   ]
  },
  {
   "cell_type": "markdown",
   "metadata": {
    "id": "4Fbzl0z5cxdj"
   },
   "source": [
    "## **6. Data Analysis**\n",
    "### Filtering, Intepretation, and Visualization of Data:\n",
    "\n"
   ]
  },
  {
   "cell_type": "markdown",
   "metadata": {
    "id": "OUBTZ5gUc2IN"
   },
   "source": [
    "### 1. Top 100 Universities By Country\n",
    "\n",
    "---\n",
    "\n",
    "\n"
   ]
  },
  {
   "cell_type": "code",
   "execution_count": null,
   "metadata": {},
   "outputs": [],
   "source": [
    "# Select only universities ranked within the top 100\n",
    "top_100 = df[df[\"rank_2025\"] <= 100]\n",
    "\n",
    "# Count the number of top 100 universities in each country\n",
    "top_100_by_country = top_100[\"location\"].value_counts()\n",
    "\n",
    "# print countries and their counts\n",
    "print(top_100_by_country)"
   ]
  },
  {
   "cell_type": "markdown",
   "metadata": {
    "id": "meY4EtIWoWSf"
   },
   "source": [
    "**Intepretation:** The United States hosts 25 of the Top 100 Universities which is more than any other nation. It is followed by the United Kingdom with 15. The US and UK are dominant hubs of elite higher education."
   ]
  },
  {
   "cell_type": "code",
   "execution_count": null,
   "metadata": {},
   "outputs": [],
   "source": [
    "# Visualization - Bar Chart:\n",
    "top100 = df[df.rank_2025 <= 100]['location'].value_counts().head(10)\n",
    "plt.figure(figsize=(8,4))\n",
    "plt.bar(top100.index, top100.values)\n",
    "plt.xticks(rotation=45)\n",
    "plt.title('Top 10 Countries by Number of Top-100 Universities')\n",
    "plt.ylabel('Count')\n",
    "plt.show()"
   ]
  },
  {
   "cell_type": "markdown",
   "metadata": {
    "id": "6pc1zap-dlxq"
   },
   "source": [
    "### 2. Average Overall Score by Region (Top 600)\n",
    "\n",
    "---\n",
    "\n"
   ]
  },
  {
   "cell_type": "code",
   "execution_count": null,
   "metadata": {},
   "outputs": [],
   "source": [
    "# Select only universities ranked within the top 600\n",
    "top_600 = df[df[\"rank_2025\"] <= 600]\n",
    "\n",
    "# Take the mean of the overall scores of the universities in each region\n",
    "avg_score_by_region = top_600.groupby(\"region\")[\"overall_score\"].mean()\n",
    "\n",
    "# Sort the countries by mean descending\n",
    "avg_score_by_region = avg_score_by_region.sort_values(ascending=False)\n",
    "\n",
    "# Print the regions and scores in descending order\n",
    "print(avg_score_by_region)"
   ]
  },
  {
   "cell_type": "markdown",
   "metadata": {
    "id": "SlIXGPcbolxt"
   },
   "source": [
    "**Intepretation:** Oceania leads with an average overall score of 47.32, closely followed by the Americas with 47.18, while regions such as Africa average around 33. This indicates a significant regional performance gap."
   ]
  },
  {
   "cell_type": "code",
   "execution_count": null,
   "metadata": {},
   "outputs": [],
   "source": [
    "# Intepretation: Bar Chart\n",
    "top600 = df[df.rank_2025 <= 600]\n",
    "avg_region = top600.groupby('region')['overall_score'].mean().sort_values(ascending=False)\n",
    "plt.figure(figsize=(8,4))\n",
    "plt.bar(avg_region.index, avg_region.values)\n",
    "plt.xticks(rotation=45)\n",
    "plt.title('Average Overall Score by Region (Top 600)')\n",
    "plt.ylabel('Average Score')\n",
    "plt.show()"
   ]
  },
  {
   "cell_type": "markdown",
   "metadata": {
    "id": "Zd_AYDAne6I6"
   },
   "source": [
    "### 3. Year-Over-Year Rank Increase (2024-2025)\n",
    "\n",
    "---\n",
    "\n"
   ]
  },
  {
   "cell_type": "code",
   "execution_count": null,
   "metadata": {},
   "outputs": [],
   "source": [
    "# Filter out rows with missing 2024 rank data\n",
    "ranked_both_years = df[df[\"rank_2024\"].notna()]\n",
    "\n",
    "# Create a new data frame including only rows where the rank has improved between years\n",
    "improved = ranked_both_years[ranked_both_years[\"rank_2025\"] < ranked_both_years[\"rank_2024\"]].copy()\n",
    "\n",
    "# Ensure rank 2024 is type int\n",
    "improved[\"rank_2024\"] = improved[\"rank_2024\"].astype(\"Int64\")\n",
    "\n",
    "# Create a new row indicating how much a university's rank improved\n",
    "improved[\"rank_change\"] = improved[\"rank_2024\"] - improved[\"rank_2025\"]\n",
    "\n",
    "# Print only relevant attributes of the new data frame\n",
    "print(improved[[\"institution_name\", \"rank_2024\", \"rank_2025\", \"rank_change\"]])"
   ]
  },
  {
   "cell_type": "markdown",
   "metadata": {
    "id": "MDp8yx6WsA6Y"
   },
   "source": [
    "**Intepretation:** Among universities present in both years, Califoria Institute of Technology improved by 5 places, revealing which institutions gained momentum from 2024 to 2025."
   ]
  },
  {
   "cell_type": "markdown",
   "metadata": {
    "id": "bSzDO7_Yg4eT"
   },
   "source": [
    "### 4. Sustainability Scores: Public vs Private Universities\n",
    "\n",
    "---\n",
    "\n"
   ]
  },
  {
   "cell_type": "code",
   "execution_count": null,
   "metadata": {},
   "outputs": [],
   "source": [
    "# Filter out rows with missing sustainability scores\n",
    "sustainability_by_type = df[df[\"sustainability_score\"].notna()]\n",
    "\n",
    "# Group by \"status\" and calculate both mean and median\n",
    "sustainability_stats = sustainability_by_type.groupby(\"status\")[\"sustainability_score\"].agg([\"mean\", \"median\"])\n",
    "\n",
    "# Sort the university types by mean descending\n",
    "sustainability_stats = sustainability_stats.sort_values(by=\"mean\", ascending=False)\n",
    "\n",
    "# Print the mean and median by unversity type\n",
    "print(sustainability_stats)"
   ]
  },
  {
   "cell_type": "markdown",
   "metadata": {
    "id": "qTEdJXA_sYlV"
   },
   "source": [
    "**Intepretation:** Public universities average a sustainability score of 27.0 compared to 18.3 for private universities. This suggests that public schools in this dataset implement stronger sustainability practices. It is important to note that outliers could influence the score for private institutions as displayed by the graph below."
   ]
  },
  {
   "cell_type": "code",
   "execution_count": null,
   "metadata": {},
   "outputs": [],
   "source": [
    "# Visualization - Boxplot\n",
    "sust = df[['status','sustainability_score']].dropna()\n",
    "plt.figure(figsize=(6,4))\n",
    "\n",
    "# Modern compatible approach\n",
    "boxes = plt.boxplot([sust[sust.status=='Public'].sustainability_score,\n",
    "                    sust[sust.status=='Private'].sustainability_score],\n",
    "                   patch_artist=True)\n",
    "\n",
    "plt.xticks([1, 2], ['Public', 'Private'])  \n",
    "plt.title('Sustainability Scores by University Status')\n",
    "plt.ylabel('Sustainability Score')\n",
    "plt.show()"
   ]
  },
  {
   "cell_type": "markdown",
   "metadata": {
    "id": "rUqL8N3ahRrK"
   },
   "source": [
    "### 5. Perfect Academic Reputation Scores (count = 100)\n",
    "\n",
    "---\n",
    "\n"
   ]
  },
  {
   "cell_type": "code",
   "execution_count": null,
   "metadata": {},
   "outputs": [],
   "source": [
    "# Select only rows with an academic reputation score of 100 (a perfect score)\n",
    "perfect_reputation = df[df[\"academic_reputation_score\"] == 100]\n",
    "\n",
    "# Print the name and score of each university with a perfect score\n",
    "print(perfect_reputation[[\"rank_2025\", \"institution_name\", \"academic_reputation_score\"]])"
   ]
  },
  {
   "cell_type": "markdown",
   "metadata": {
    "id": "rEfThrw3Aodf"
   },
   "source": [
    "**Intepretation:** Universities with the highest academic reputation scores are located in the US, with 5 dominating the list. University of Oxford and University of Cambridge are in the UK, and the University of Tokyo is in Asia. This could correlate back to Analysis #1 where the data indicated that the US and UK dominated the college scene."
   ]
  },
  {
   "cell_type": "markdown",
   "metadata": {
    "id": "fEkjgRCzkj1S"
   },
   "source": [
    "### 6. Count by University Sizes\n",
    "\n",
    "---\n",
    "\n"
   ]
  },
  {
   "cell_type": "code",
   "execution_count": null,
   "metadata": {},
   "outputs": [],
   "source": [
    "# Get the counts of each size university\n",
    "size_counts = df[\"size\"].value_counts()\n",
    "\n",
    "# Reorder the data frame in size order descending\n",
    "ordered_sizes = size_counts.reindex([\"XL\", \"L\", \"M\", \"S\"])\n",
    "\n",
    "# Output the size counts\n",
    "print(ordered_sizes)"
   ]
  },
  {
   "cell_type": "markdown",
   "metadata": {
    "id": "ueqOgriRs1gF"
   },
   "source": [
    "**Intepretation:** Large campuses (L) account for 691 universities, followed by medium (M) with 372, extra‑large (XL) with 352, and small (S) with 88. This reflects that most ranked institutions are large."
   ]
  },
  {
   "cell_type": "markdown",
   "metadata": {
    "id": "ISf21I6EkyxM"
   },
   "source": [
    "### 7. Top Cited Research Universities\n",
    "\n",
    "---\n",
    "\n"
   ]
  },
  {
   "cell_type": "code",
   "execution_count": null,
   "metadata": {},
   "outputs": [],
   "source": [
    "# sort the data frame by highest citation per faculty score\n",
    "top_citations = df.sort_values(by=\"citations_per_faculty_score\", ascending = False)\n",
    "\n",
    "# print the rank, name, score of the first top 10 universities by citation per faculty score\n",
    "print(top_citations[[\"rank_2025\", \"institution_name\", \"citations_per_faculty_score\"]].head(10))"
   ]
  },
  {
   "cell_type": "markdown",
   "metadata": {
    "id": "72OjoMX4s63o"
   },
   "source": [
    "**Intepretation:** MIT, Caltech, and Harvard top the list in citations per faculty. Each institute score 100 which highlights their research impact."
   ]
  },
  {
   "cell_type": "markdown",
   "metadata": {
    "id": "lqWkOpuylaRZ"
   },
   "source": [
    "### 8. Highest International Student Ratio\n",
    "\n",
    "\n",
    "---\n",
    "\n"
   ]
  },
  {
   "cell_type": "code",
   "execution_count": null,
   "metadata": {},
   "outputs": [],
   "source": [
    "# Sort the data frame by highest international student ratio\n",
    "top_international_students = df.sort_values(by=\"international_students_score\", ascending=False)\n",
    "\n",
    "# Print the rank, name, and score of the first top 10 universities by international student ratio\n",
    "print(top_international_students[[\"rank_2025\", \"institution_name\", \"international_students_score\"]].head(10))"
   ]
  },
  {
   "cell_type": "markdown",
   "metadata": {
    "id": "UhhcbMSVtQP-"
   },
   "source": [
    "**Intepretation:** EPFL and the University of Sydney lead with perfect international student scores of 100. This indicates that these campuses are the most globally diverse."
   ]
  },
  {
   "cell_type": "code",
   "execution_count": null,
   "metadata": {},
   "outputs": [],
   "source": [
    "# Scatter\n",
    "plt.figure(figsize=(6,4))\n",
    "plt.scatter(df.overall_score, df.international_students_score, alpha=0.5)\n",
    "plt.title('Overall Score vs. International Student Score')\n",
    "plt.xlabel('Overall Score')\n",
    "plt.ylabel('International Student Score')\n",
    "plt.show()"
   ]
  },
  {
   "cell_type": "markdown",
   "metadata": {
    "id": "zpGsfEirHQiz"
   },
   "source": [
    "## **7. Key Takeaways**\n",
    "#### **Limitation:**\n",
    "\n",
    "\n",
    "1. Missing overall_score for many universities.\n",
    "2. Fundings and external (government) and institutional policies could influence the overall scores.\n",
    "3. Some universities might not report data for certain metrics that were taken into account.\n",
    "\n",
    "#### **Conclusion:**\n",
    "\n",
    "*   This analysis illustrates how global higher-education excellence remains concentrated in regions and showcases how certain institutions continue to dominate, yet also reveals important areas for growth. The US and UK collectively host over a third of the world's Top 100 Universities. This indicates their leadership but also highlights the competitive potential of other nations. Regional average scores shows that the difference between continents in terms of education presents untapped opportunities for capacity building and targeted investment to strengthen educational quality across the world. The sustainability comparison suggests that public institutions in this dataset outperform private ones. Morover, the correlation between research citations, overall score and internation student diversity clearly indicates to the importance of integrating scholarships and global engagements between institutions across the world.\n",
    "*   Future research can be done to explore other important key factors such as\n",
    " fundings, faculty quality, student outcomes, etc. and how these drivers impact the overall performances of institutions across the world.\n",
    "\n"
   ]
  }
 ],
 "metadata": {
  "language_info": {
   "name": "python"
  }
 },
 "nbformat": 4,
 "nbformat_minor": 0
}
# Last rendered: 2025-05-06 04:38:51
