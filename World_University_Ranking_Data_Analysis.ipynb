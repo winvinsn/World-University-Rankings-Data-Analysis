{
  "cells": [
    {
      "cell_type": "markdown",
      "metadata": {
        "id": "eRJlna4NUOFA"
      },
      "source": [
        "# **World University Rankings 2025**\n",
        "\n",
        "### **Authors:**  \n",
        "**Nguyen Ngo, Josh Ilko**  \n",
        "Penn State University  \n",
        "DS 220 – Spring 2025  \n",
        "May 5, 2025\n"
      ]
    },
    {
      "cell_type": "markdown",
      "source": [
        "## **1. Problem Space**\n",
        "In this data analysis, we will answer exploratory questions about approximately 1,500 universities ranked by Quacquarelli Symonds (QS). The dataset includes numerous key indicators, including a school's name, location, region, 2024 and 2025 rankings, size, focus, status, and numerous other miscellaneous rankings, as well as an overall score. These factors provide a comprehensive representation and are taken into account as they were used to map out the overall placement of these institutions. The analysis of this dataset is aimed to provide insights for a range of stakeholders, including students, universities, administrators, etc."
      ],
      "metadata": {
        "id": "sP3Eh_twIXdH"
      }
    },
    {
      "cell_type": "markdown",
      "source": [
        "## **2. Dataset Overview**\n",
        "- **Source:** QS official release CSV (`data/QS World University Rankings 2025 (Top global universities).csv`) via Kaggle published on April 21st, 2025\n",
        "- **Key columns:** `rank`, `university`, `country`, `region`, `overall_score`, `citations`, `sustainability`, `academic_reputation`, `international_students_pct`, `type` (public/private), `size`.\n",
        "- **Relevance:** Columns map directly to our eight analysis questions.\n"
      ],
      "metadata": {
        "id": "1oHUYTjNIbkk"
      }
    },
    {
      "cell_type": "markdown",
      "source": [
        "## **3. Research Questions**\n",
        "1. How many of the top 100 universities are in each country?\n",
        "2. What is the average overall score of the top 600 universities in each region?\n",
        "3. Which universities that were ranked in 2024 have increased in rank in 2025, and by how much?\n",
        "4. How do sustainability scores between public and private universities compare?\n",
        "5. Which universities have a perfect academic reputation score?\n",
        "6. How many unversities of each size are there?\n",
        "7. Which unversities have the most cited research?\n",
        "8. Which unversities have the highest international student ratio?"
      ],
      "metadata": {
        "id": "9HbAKOkSIfwN"
      }
    },
    {
      "cell_type": "markdown",
      "metadata": {
        "id": "0NIrxX0xUhEM"
      },
      "source": [
        "## **4. Library Importation & Data Loading**"
      ]
    },
    {
      "cell_type": "code",
      "execution_count": 4,
      "metadata": {
        "colab": {
          "base_uri": "https://localhost:8080/"
        },
        "id": "ZK1S6rvVUi_U",
        "outputId": "27be7324-5639-45d9-c54c-b041498dc82f"
      },
      "outputs": [
        {
          "output_type": "execute_result",
          "data": {
            "text/plain": [
              "(1503, 28)"
            ]
          },
          "metadata": {},
          "execution_count": 4
        }
      ],
      "source": [
        "# import libraries\n",
        "import pandas as pd\n",
        "import matplotlib.pyplot as plt\n",
        "import numpy as np\n",
        "import seaborn as sns # for correlation heatmap\n",
        "\n",
        "# load the data\n",
        "df = pd.read_csv(\n",
        "    \"/content/sample_data/QS World University Rankings 2025 (Top global universities).csv\",\n",
        "    encoding=\"latin1\"\n",
        ")\n",
        "\n",
        "# check rows and columns\n",
        "df.shape"
      ]
    },
    {
      "cell_type": "markdown",
      "metadata": {
        "id": "Dk0bpLxOVedY"
      },
      "source": [
        "## **5. Exploring Data & Data Cleaning**"
      ]
    },
    {
      "cell_type": "markdown",
      "source": [
        "### Exploring Data\n",
        "Before conducting the analysis, inspecting the structure and contents of the data beforehand will guide the rest of the analysis process."
      ],
      "metadata": {
        "id": "X3Iu-9MI_dAI"
      }
    },
    {
      "cell_type": "code",
      "execution_count": 5,
      "metadata": {
        "colab": {
          "base_uri": "https://localhost:8080/",
          "height": 927
        },
        "id": "H04-FlQ_VhMS",
        "outputId": "df46278d-5090-4832-c1ff-194f4881ecd5"
      },
      "outputs": [
        {
          "output_type": "stream",
          "name": "stdout",
          "text": [
            "<class 'pandas.core.frame.DataFrame'>\n",
            "RangeIndex: 1503 entries, 0 to 1502\n",
            "Data columns (total 28 columns):\n",
            " #   Column                                Non-Null Count  Dtype  \n",
            "---  ------                                --------------  -----  \n",
            " 0   RANK_2025                             1503 non-null   object \n",
            " 1   RANK_2024                             1482 non-null   object \n",
            " 2   Institution_Name                      1503 non-null   object \n",
            " 3   Location                              1503 non-null   object \n",
            " 4   Region                                1503 non-null   object \n",
            " 5   SIZE                                  1503 non-null   object \n",
            " 6   FOCUS                                 1503 non-null   object \n",
            " 7   RES.                                  1503 non-null   object \n",
            " 8   STATUS                                1466 non-null   object \n",
            " 9   Academic_Reputation_Score             1503 non-null   float64\n",
            " 10  Academic_Reputation_Rank              1503 non-null   object \n",
            " 11  Employer_Reputation_Score             1503 non-null   float64\n",
            " 12  Employer_Reputation_Rank              1503 non-null   object \n",
            " 13  Faculty_Student_Score                 1503 non-null   float64\n",
            " 14  Faculty_Student_Rank                  1503 non-null   object \n",
            " 15  Citations_per_Faculty_Score           1503 non-null   float64\n",
            " 16  Citations_per_Faculty_Rank            1503 non-null   object \n",
            " 17  International_Faculty_Score           1403 non-null   float64\n",
            " 18  International_Faculty_Rank            1403 non-null   object \n",
            " 19  International_Students_Score          1445 non-null   float64\n",
            " 20  International_Students_Rank           1445 non-null   object \n",
            " 21  International_Research_Network_Score  1502 non-null   float64\n",
            " 22  International_Research_Network_Rank   1502 non-null   object \n",
            " 23  Employment_Outcomes_Score             1503 non-null   float64\n",
            " 24  Employment_Outcomes_Rank              1503 non-null   object \n",
            " 25  Sustainability_Score                  1484 non-null   float64\n",
            " 26  Sustainability_Rank                   1484 non-null   object \n",
            " 27  Overall_Score                         601 non-null    object \n",
            "dtypes: float64(9), object(19)\n",
            "memory usage: 328.9+ KB\n"
          ]
        },
        {
          "output_type": "execute_result",
          "data": {
            "text/plain": [
              "       Academic_Reputation_Score  Employer_Reputation_Score  \\\n",
              "count                1503.000000                1503.000000   \n",
              "mean                   20.286693                  19.787292   \n",
              "std                    22.326168                  23.784738   \n",
              "min                     1.300000                   1.100000   \n",
              "25%                     6.300000                   4.300000   \n",
              "50%                    11.000000                   9.400000   \n",
              "75%                    23.500000                  25.300000   \n",
              "max                   100.000000                 100.000000   \n",
              "\n",
              "       Faculty_Student_Score  Citations_per_Faculty_Score  \\\n",
              "count            1503.000000                  1503.000000   \n",
              "mean               28.128676                    23.503460   \n",
              "std                27.613017                    27.870692   \n",
              "min                 1.000000                     1.000000   \n",
              "25%                 7.300000                     2.800000   \n",
              "50%                16.000000                     9.900000   \n",
              "75%                40.400000                    36.400000   \n",
              "max               100.000000                   100.000000   \n",
              "\n",
              "       International_Faculty_Score  International_Students_Score  \\\n",
              "count                  1403.000000                   1445.000000   \n",
              "mean                     30.736707                     25.580346   \n",
              "std                      34.344365                     31.098689   \n",
              "min                       1.000000                      1.000000   \n",
              "25%                       4.200000                      2.900000   \n",
              "50%                      12.500000                      9.600000   \n",
              "75%                      51.600000                     38.300000   \n",
              "max                     100.000000                    100.000000   \n",
              "\n",
              "       International_Research_Network_Score  Employment_Outcomes_Score  \\\n",
              "count                           1502.000000                1503.000000   \n",
              "mean                              50.129095                  23.825083   \n",
              "std                               29.866588                  27.351315   \n",
              "min                                1.000000                   1.200000   \n",
              "25%                               22.725000                   4.000000   \n",
              "50%                               51.100000                  11.800000   \n",
              "75%                               77.100000                  33.400000   \n",
              "max                              100.000000                 100.000000   \n",
              "\n",
              "       Sustainability_Score  \n",
              "count           1484.000000  \n",
              "mean              24.309299  \n",
              "std               31.074718  \n",
              "min                1.000000  \n",
              "25%                1.300000  \n",
              "50%                6.750000  \n",
              "75%               39.500000  \n",
              "max              100.000000  "
            ],
            "text/html": [
              "\n",
              "  <div id=\"df-07b54de1-bd14-44ca-be2b-1dceaa8321d8\" class=\"colab-df-container\">\n",
              "    <div>\n",
              "<style scoped>\n",
              "    .dataframe tbody tr th:only-of-type {\n",
              "        vertical-align: middle;\n",
              "    }\n",
              "\n",
              "    .dataframe tbody tr th {\n",
              "        vertical-align: top;\n",
              "    }\n",
              "\n",
              "    .dataframe thead th {\n",
              "        text-align: right;\n",
              "    }\n",
              "</style>\n",
              "<table border=\"1\" class=\"dataframe\">\n",
              "  <thead>\n",
              "    <tr style=\"text-align: right;\">\n",
              "      <th></th>\n",
              "      <th>Academic_Reputation_Score</th>\n",
              "      <th>Employer_Reputation_Score</th>\n",
              "      <th>Faculty_Student_Score</th>\n",
              "      <th>Citations_per_Faculty_Score</th>\n",
              "      <th>International_Faculty_Score</th>\n",
              "      <th>International_Students_Score</th>\n",
              "      <th>International_Research_Network_Score</th>\n",
              "      <th>Employment_Outcomes_Score</th>\n",
              "      <th>Sustainability_Score</th>\n",
              "    </tr>\n",
              "  </thead>\n",
              "  <tbody>\n",
              "    <tr>\n",
              "      <th>count</th>\n",
              "      <td>1503.000000</td>\n",
              "      <td>1503.000000</td>\n",
              "      <td>1503.000000</td>\n",
              "      <td>1503.000000</td>\n",
              "      <td>1403.000000</td>\n",
              "      <td>1445.000000</td>\n",
              "      <td>1502.000000</td>\n",
              "      <td>1503.000000</td>\n",
              "      <td>1484.000000</td>\n",
              "    </tr>\n",
              "    <tr>\n",
              "      <th>mean</th>\n",
              "      <td>20.286693</td>\n",
              "      <td>19.787292</td>\n",
              "      <td>28.128676</td>\n",
              "      <td>23.503460</td>\n",
              "      <td>30.736707</td>\n",
              "      <td>25.580346</td>\n",
              "      <td>50.129095</td>\n",
              "      <td>23.825083</td>\n",
              "      <td>24.309299</td>\n",
              "    </tr>\n",
              "    <tr>\n",
              "      <th>std</th>\n",
              "      <td>22.326168</td>\n",
              "      <td>23.784738</td>\n",
              "      <td>27.613017</td>\n",
              "      <td>27.870692</td>\n",
              "      <td>34.344365</td>\n",
              "      <td>31.098689</td>\n",
              "      <td>29.866588</td>\n",
              "      <td>27.351315</td>\n",
              "      <td>31.074718</td>\n",
              "    </tr>\n",
              "    <tr>\n",
              "      <th>min</th>\n",
              "      <td>1.300000</td>\n",
              "      <td>1.100000</td>\n",
              "      <td>1.000000</td>\n",
              "      <td>1.000000</td>\n",
              "      <td>1.000000</td>\n",
              "      <td>1.000000</td>\n",
              "      <td>1.000000</td>\n",
              "      <td>1.200000</td>\n",
              "      <td>1.000000</td>\n",
              "    </tr>\n",
              "    <tr>\n",
              "      <th>25%</th>\n",
              "      <td>6.300000</td>\n",
              "      <td>4.300000</td>\n",
              "      <td>7.300000</td>\n",
              "      <td>2.800000</td>\n",
              "      <td>4.200000</td>\n",
              "      <td>2.900000</td>\n",
              "      <td>22.725000</td>\n",
              "      <td>4.000000</td>\n",
              "      <td>1.300000</td>\n",
              "    </tr>\n",
              "    <tr>\n",
              "      <th>50%</th>\n",
              "      <td>11.000000</td>\n",
              "      <td>9.400000</td>\n",
              "      <td>16.000000</td>\n",
              "      <td>9.900000</td>\n",
              "      <td>12.500000</td>\n",
              "      <td>9.600000</td>\n",
              "      <td>51.100000</td>\n",
              "      <td>11.800000</td>\n",
              "      <td>6.750000</td>\n",
              "    </tr>\n",
              "    <tr>\n",
              "      <th>75%</th>\n",
              "      <td>23.500000</td>\n",
              "      <td>25.300000</td>\n",
              "      <td>40.400000</td>\n",
              "      <td>36.400000</td>\n",
              "      <td>51.600000</td>\n",
              "      <td>38.300000</td>\n",
              "      <td>77.100000</td>\n",
              "      <td>33.400000</td>\n",
              "      <td>39.500000</td>\n",
              "    </tr>\n",
              "    <tr>\n",
              "      <th>max</th>\n",
              "      <td>100.000000</td>\n",
              "      <td>100.000000</td>\n",
              "      <td>100.000000</td>\n",
              "      <td>100.000000</td>\n",
              "      <td>100.000000</td>\n",
              "      <td>100.000000</td>\n",
              "      <td>100.000000</td>\n",
              "      <td>100.000000</td>\n",
              "      <td>100.000000</td>\n",
              "    </tr>\n",
              "  </tbody>\n",
              "</table>\n",
              "</div>\n",
              "    <div class=\"colab-df-buttons\">\n",
              "\n",
              "  <div class=\"colab-df-container\">\n",
              "    <button class=\"colab-df-convert\" onclick=\"convertToInteractive('df-07b54de1-bd14-44ca-be2b-1dceaa8321d8')\"\n",
              "            title=\"Convert this dataframe to an interactive table.\"\n",
              "            style=\"display:none;\">\n",
              "\n",
              "  <svg xmlns=\"http://www.w3.org/2000/svg\" height=\"24px\" viewBox=\"0 -960 960 960\">\n",
              "    <path d=\"M120-120v-720h720v720H120Zm60-500h600v-160H180v160Zm220 220h160v-160H400v160Zm0 220h160v-160H400v160ZM180-400h160v-160H180v160Zm440 0h160v-160H620v160ZM180-180h160v-160H180v160Zm440 0h160v-160H620v160Z\"/>\n",
              "  </svg>\n",
              "    </button>\n",
              "\n",
              "  <style>\n",
              "    .colab-df-container {\n",
              "      display:flex;\n",
              "      gap: 12px;\n",
              "    }\n",
              "\n",
              "    .colab-df-convert {\n",
              "      background-color: #E8F0FE;\n",
              "      border: none;\n",
              "      border-radius: 50%;\n",
              "      cursor: pointer;\n",
              "      display: none;\n",
              "      fill: #1967D2;\n",
              "      height: 32px;\n",
              "      padding: 0 0 0 0;\n",
              "      width: 32px;\n",
              "    }\n",
              "\n",
              "    .colab-df-convert:hover {\n",
              "      background-color: #E2EBFA;\n",
              "      box-shadow: 0px 1px 2px rgba(60, 64, 67, 0.3), 0px 1px 3px 1px rgba(60, 64, 67, 0.15);\n",
              "      fill: #174EA6;\n",
              "    }\n",
              "\n",
              "    .colab-df-buttons div {\n",
              "      margin-bottom: 4px;\n",
              "    }\n",
              "\n",
              "    [theme=dark] .colab-df-convert {\n",
              "      background-color: #3B4455;\n",
              "      fill: #D2E3FC;\n",
              "    }\n",
              "\n",
              "    [theme=dark] .colab-df-convert:hover {\n",
              "      background-color: #434B5C;\n",
              "      box-shadow: 0px 1px 3px 1px rgba(0, 0, 0, 0.15);\n",
              "      filter: drop-shadow(0px 1px 2px rgba(0, 0, 0, 0.3));\n",
              "      fill: #FFFFFF;\n",
              "    }\n",
              "  </style>\n",
              "\n",
              "    <script>\n",
              "      const buttonEl =\n",
              "        document.querySelector('#df-07b54de1-bd14-44ca-be2b-1dceaa8321d8 button.colab-df-convert');\n",
              "      buttonEl.style.display =\n",
              "        google.colab.kernel.accessAllowed ? 'block' : 'none';\n",
              "\n",
              "      async function convertToInteractive(key) {\n",
              "        const element = document.querySelector('#df-07b54de1-bd14-44ca-be2b-1dceaa8321d8');\n",
              "        const dataTable =\n",
              "          await google.colab.kernel.invokeFunction('convertToInteractive',\n",
              "                                                    [key], {});\n",
              "        if (!dataTable) return;\n",
              "\n",
              "        const docLinkHtml = 'Like what you see? Visit the ' +\n",
              "          '<a target=\"_blank\" href=https://colab.research.google.com/notebooks/data_table.ipynb>data table notebook</a>'\n",
              "          + ' to learn more about interactive tables.';\n",
              "        element.innerHTML = '';\n",
              "        dataTable['output_type'] = 'display_data';\n",
              "        await google.colab.output.renderOutput(dataTable, element);\n",
              "        const docLink = document.createElement('div');\n",
              "        docLink.innerHTML = docLinkHtml;\n",
              "        element.appendChild(docLink);\n",
              "      }\n",
              "    </script>\n",
              "  </div>\n",
              "\n",
              "\n",
              "    <div id=\"df-28225f3d-56b5-42bf-b89c-fea421003c42\">\n",
              "      <button class=\"colab-df-quickchart\" onclick=\"quickchart('df-28225f3d-56b5-42bf-b89c-fea421003c42')\"\n",
              "                title=\"Suggest charts\"\n",
              "                style=\"display:none;\">\n",
              "\n",
              "<svg xmlns=\"http://www.w3.org/2000/svg\" height=\"24px\"viewBox=\"0 0 24 24\"\n",
              "     width=\"24px\">\n",
              "    <g>\n",
              "        <path d=\"M19 3H5c-1.1 0-2 .9-2 2v14c0 1.1.9 2 2 2h14c1.1 0 2-.9 2-2V5c0-1.1-.9-2-2-2zM9 17H7v-7h2v7zm4 0h-2V7h2v10zm4 0h-2v-4h2v4z\"/>\n",
              "    </g>\n",
              "</svg>\n",
              "      </button>\n",
              "\n",
              "<style>\n",
              "  .colab-df-quickchart {\n",
              "      --bg-color: #E8F0FE;\n",
              "      --fill-color: #1967D2;\n",
              "      --hover-bg-color: #E2EBFA;\n",
              "      --hover-fill-color: #174EA6;\n",
              "      --disabled-fill-color: #AAA;\n",
              "      --disabled-bg-color: #DDD;\n",
              "  }\n",
              "\n",
              "  [theme=dark] .colab-df-quickchart {\n",
              "      --bg-color: #3B4455;\n",
              "      --fill-color: #D2E3FC;\n",
              "      --hover-bg-color: #434B5C;\n",
              "      --hover-fill-color: #FFFFFF;\n",
              "      --disabled-bg-color: #3B4455;\n",
              "      --disabled-fill-color: #666;\n",
              "  }\n",
              "\n",
              "  .colab-df-quickchart {\n",
              "    background-color: var(--bg-color);\n",
              "    border: none;\n",
              "    border-radius: 50%;\n",
              "    cursor: pointer;\n",
              "    display: none;\n",
              "    fill: var(--fill-color);\n",
              "    height: 32px;\n",
              "    padding: 0;\n",
              "    width: 32px;\n",
              "  }\n",
              "\n",
              "  .colab-df-quickchart:hover {\n",
              "    background-color: var(--hover-bg-color);\n",
              "    box-shadow: 0 1px 2px rgba(60, 64, 67, 0.3), 0 1px 3px 1px rgba(60, 64, 67, 0.15);\n",
              "    fill: var(--button-hover-fill-color);\n",
              "  }\n",
              "\n",
              "  .colab-df-quickchart-complete:disabled,\n",
              "  .colab-df-quickchart-complete:disabled:hover {\n",
              "    background-color: var(--disabled-bg-color);\n",
              "    fill: var(--disabled-fill-color);\n",
              "    box-shadow: none;\n",
              "  }\n",
              "\n",
              "  .colab-df-spinner {\n",
              "    border: 2px solid var(--fill-color);\n",
              "    border-color: transparent;\n",
              "    border-bottom-color: var(--fill-color);\n",
              "    animation:\n",
              "      spin 1s steps(1) infinite;\n",
              "  }\n",
              "\n",
              "  @keyframes spin {\n",
              "    0% {\n",
              "      border-color: transparent;\n",
              "      border-bottom-color: var(--fill-color);\n",
              "      border-left-color: var(--fill-color);\n",
              "    }\n",
              "    20% {\n",
              "      border-color: transparent;\n",
              "      border-left-color: var(--fill-color);\n",
              "      border-top-color: var(--fill-color);\n",
              "    }\n",
              "    30% {\n",
              "      border-color: transparent;\n",
              "      border-left-color: var(--fill-color);\n",
              "      border-top-color: var(--fill-color);\n",
              "      border-right-color: var(--fill-color);\n",
              "    }\n",
              "    40% {\n",
              "      border-color: transparent;\n",
              "      border-right-color: var(--fill-color);\n",
              "      border-top-color: var(--fill-color);\n",
              "    }\n",
              "    60% {\n",
              "      border-color: transparent;\n",
              "      border-right-color: var(--fill-color);\n",
              "    }\n",
              "    80% {\n",
              "      border-color: transparent;\n",
              "      border-right-color: var(--fill-color);\n",
              "      border-bottom-color: var(--fill-color);\n",
              "    }\n",
              "    90% {\n",
              "      border-color: transparent;\n",
              "      border-bottom-color: var(--fill-color);\n",
              "    }\n",
              "  }\n",
              "</style>\n",
              "\n",
              "      <script>\n",
              "        async function quickchart(key) {\n",
              "          const quickchartButtonEl =\n",
              "            document.querySelector('#' + key + ' button');\n",
              "          quickchartButtonEl.disabled = true;  // To prevent multiple clicks.\n",
              "          quickchartButtonEl.classList.add('colab-df-spinner');\n",
              "          try {\n",
              "            const charts = await google.colab.kernel.invokeFunction(\n",
              "                'suggestCharts', [key], {});\n",
              "          } catch (error) {\n",
              "            console.error('Error during call to suggestCharts:', error);\n",
              "          }\n",
              "          quickchartButtonEl.classList.remove('colab-df-spinner');\n",
              "          quickchartButtonEl.classList.add('colab-df-quickchart-complete');\n",
              "        }\n",
              "        (() => {\n",
              "          let quickchartButtonEl =\n",
              "            document.querySelector('#df-28225f3d-56b5-42bf-b89c-fea421003c42 button');\n",
              "          quickchartButtonEl.style.display =\n",
              "            google.colab.kernel.accessAllowed ? 'block' : 'none';\n",
              "        })();\n",
              "      </script>\n",
              "    </div>\n",
              "\n",
              "    </div>\n",
              "  </div>\n"
            ],
            "application/vnd.google.colaboratory.intrinsic+json": {
              "type": "dataframe",
              "summary": "{\n  \"name\": \"df\",\n  \"rows\": 8,\n  \"fields\": [\n    {\n      \"column\": \"Academic_Reputation_Score\",\n      \"properties\": {\n        \"dtype\": \"number\",\n        \"std\": 522.9841297910659,\n        \"min\": 1.3,\n        \"max\": 1503.0,\n        \"num_unique_values\": 8,\n        \"samples\": [\n          20.28669328010645,\n          11.0,\n          1503.0\n        ],\n        \"semantic_type\": \"\",\n        \"description\": \"\"\n      }\n    },\n    {\n      \"column\": \"Employer_Reputation_Score\",\n      \"properties\": {\n        \"dtype\": \"number\",\n        \"std\": 523.0551163892767,\n        \"min\": 1.1,\n        \"max\": 1503.0,\n        \"num_unique_values\": 8,\n        \"samples\": [\n          19.78729208250166,\n          9.4,\n          1503.0\n        ],\n        \"semantic_type\": \"\",\n        \"description\": \"\"\n      }\n    },\n    {\n      \"column\": \"Faculty_Student_Score\",\n      \"properties\": {\n        \"dtype\": \"number\",\n        \"std\": 521.1558229420933,\n        \"min\": 1.0,\n        \"max\": 1503.0,\n        \"num_unique_values\": 8,\n        \"samples\": [\n          28.128675981370588,\n          16.0,\n          1503.0\n        ],\n        \"semantic_type\": \"\",\n        \"description\": \"\"\n      }\n    },\n    {\n      \"column\": \"Citations_per_Faculty_Score\",\n      \"properties\": {\n        \"dtype\": \"number\",\n        \"std\": 522.1680054641652,\n        \"min\": 1.0,\n        \"max\": 1503.0,\n        \"num_unique_values\": 8,\n        \"samples\": [\n          23.50345974717232,\n          9.9,\n          1503.0\n        ],\n        \"semantic_type\": \"\",\n        \"description\": \"\"\n      }\n    },\n    {\n      \"column\": \"International_Faculty_Score\",\n      \"properties\": {\n        \"dtype\": \"number\",\n        \"std\": 485.2456864621743,\n        \"min\": 1.0,\n        \"max\": 1403.0,\n        \"num_unique_values\": 8,\n        \"samples\": [\n          30.73670705630791,\n          12.5,\n          1403.0\n        ],\n        \"semantic_type\": \"\",\n        \"description\": \"\"\n      }\n    },\n    {\n      \"column\": \"International_Students_Score\",\n      \"properties\": {\n        \"dtype\": \"number\",\n        \"std\": 501.35043740703213,\n        \"min\": 1.0,\n        \"max\": 1445.0,\n        \"num_unique_values\": 8,\n        \"samples\": [\n          25.580346020761244,\n          9.6,\n          1445.0\n        ],\n        \"semantic_type\": \"\",\n        \"description\": \"\"\n      }\n    },\n    {\n      \"column\": \"International_Research_Network_Score\",\n      \"properties\": {\n        \"dtype\": \"number\",\n        \"std\": 515.2078431131547,\n        \"min\": 1.0,\n        \"max\": 1502.0,\n        \"num_unique_values\": 8,\n        \"samples\": [\n          50.12909454061251,\n          51.1,\n          1502.0\n        ],\n        \"semantic_type\": \"\",\n        \"description\": \"\"\n      }\n    },\n    {\n      \"column\": \"Employment_Outcomes_Score\",\n      \"properties\": {\n        \"dtype\": \"number\",\n        \"std\": 522.1383754398661,\n        \"min\": 1.2,\n        \"max\": 1503.0,\n        \"num_unique_values\": 8,\n        \"samples\": [\n          23.825083166999335,\n          11.8,\n          1503.0\n        ],\n        \"semantic_type\": \"\",\n        \"description\": \"\"\n      }\n    },\n    {\n      \"column\": \"Sustainability_Score\",\n      \"properties\": {\n        \"dtype\": \"number\",\n        \"std\": 515.3751652730283,\n        \"min\": 1.0,\n        \"max\": 1484.0,\n        \"num_unique_values\": 8,\n        \"samples\": [\n          24.309299191374663,\n          6.75,\n          1484.0\n        ],\n        \"semantic_type\": \"\",\n        \"description\": \"\"\n      }\n    }\n  ]\n}"
            }
          },
          "metadata": {},
          "execution_count": 5
        }
      ],
      "source": [
        "# inspect first few rows\n",
        "df.head()\n",
        "# get column info\n",
        "df.info()\n",
        "# stats summary\n",
        "df.describe()"
      ]
    },
    {
      "cell_type": "markdown",
      "source": [
        "We see 1,503 rows and 28 columns. The overall scores range roughly from 30 to 100."
      ],
      "metadata": {
        "id": "OuEQfJX_nt19"
      }
    },
    {
      "cell_type": "markdown",
      "source": [
        "### Check For Null Values\n",
        "The first step in our data cleaning is to determine which columns have null values, how many null values they have, and how to deal with these columns."
      ],
      "metadata": {
        "id": "mUl2H45Q_XO1"
      }
    },
    {
      "cell_type": "code",
      "execution_count": 6,
      "metadata": {
        "colab": {
          "base_uri": "https://localhost:8080/",
          "height": 962
        },
        "id": "zW0AuWJ5Y8P6",
        "outputId": "d256e549-b3ed-4192-aa5e-90aaeb94b26c"
      },
      "outputs": [
        {
          "output_type": "execute_result",
          "data": {
            "text/plain": [
              "Overall_Score                           902\n",
              "International_Faculty_Rank              100\n",
              "International_Faculty_Score             100\n",
              "International_Students_Score             58\n",
              "International_Students_Rank              58\n",
              "STATUS                                   37\n",
              "RANK_2024                                21\n",
              "Sustainability_Score                     19\n",
              "Sustainability_Rank                      19\n",
              "International_Research_Network_Score      1\n",
              "International_Research_Network_Rank       1\n",
              "Institution_Name                          0\n",
              "Employer_Reputation_Score                 0\n",
              "Academic_Reputation_Rank                  0\n",
              "Academic_Reputation_Score                 0\n",
              "RES.                                      0\n",
              "SIZE                                      0\n",
              "FOCUS                                     0\n",
              "Region                                    0\n",
              "Location                                  0\n",
              "RANK_2025                                 0\n",
              "Citations_per_Faculty_Rank                0\n",
              "Faculty_Student_Rank                      0\n",
              "Citations_per_Faculty_Score               0\n",
              "Employer_Reputation_Rank                  0\n",
              "Faculty_Student_Score                     0\n",
              "Employment_Outcomes_Score                 0\n",
              "Employment_Outcomes_Rank                  0\n",
              "dtype: int64"
            ],
            "text/html": [
              "<div>\n",
              "<style scoped>\n",
              "    .dataframe tbody tr th:only-of-type {\n",
              "        vertical-align: middle;\n",
              "    }\n",
              "\n",
              "    .dataframe tbody tr th {\n",
              "        vertical-align: top;\n",
              "    }\n",
              "\n",
              "    .dataframe thead th {\n",
              "        text-align: right;\n",
              "    }\n",
              "</style>\n",
              "<table border=\"1\" class=\"dataframe\">\n",
              "  <thead>\n",
              "    <tr style=\"text-align: right;\">\n",
              "      <th></th>\n",
              "      <th>0</th>\n",
              "    </tr>\n",
              "  </thead>\n",
              "  <tbody>\n",
              "    <tr>\n",
              "      <th>Overall_Score</th>\n",
              "      <td>902</td>\n",
              "    </tr>\n",
              "    <tr>\n",
              "      <th>International_Faculty_Rank</th>\n",
              "      <td>100</td>\n",
              "    </tr>\n",
              "    <tr>\n",
              "      <th>International_Faculty_Score</th>\n",
              "      <td>100</td>\n",
              "    </tr>\n",
              "    <tr>\n",
              "      <th>International_Students_Score</th>\n",
              "      <td>58</td>\n",
              "    </tr>\n",
              "    <tr>\n",
              "      <th>International_Students_Rank</th>\n",
              "      <td>58</td>\n",
              "    </tr>\n",
              "    <tr>\n",
              "      <th>STATUS</th>\n",
              "      <td>37</td>\n",
              "    </tr>\n",
              "    <tr>\n",
              "      <th>RANK_2024</th>\n",
              "      <td>21</td>\n",
              "    </tr>\n",
              "    <tr>\n",
              "      <th>Sustainability_Score</th>\n",
              "      <td>19</td>\n",
              "    </tr>\n",
              "    <tr>\n",
              "      <th>Sustainability_Rank</th>\n",
              "      <td>19</td>\n",
              "    </tr>\n",
              "    <tr>\n",
              "      <th>International_Research_Network_Score</th>\n",
              "      <td>1</td>\n",
              "    </tr>\n",
              "    <tr>\n",
              "      <th>International_Research_Network_Rank</th>\n",
              "      <td>1</td>\n",
              "    </tr>\n",
              "    <tr>\n",
              "      <th>Institution_Name</th>\n",
              "      <td>0</td>\n",
              "    </tr>\n",
              "    <tr>\n",
              "      <th>Employer_Reputation_Score</th>\n",
              "      <td>0</td>\n",
              "    </tr>\n",
              "    <tr>\n",
              "      <th>Academic_Reputation_Rank</th>\n",
              "      <td>0</td>\n",
              "    </tr>\n",
              "    <tr>\n",
              "      <th>Academic_Reputation_Score</th>\n",
              "      <td>0</td>\n",
              "    </tr>\n",
              "    <tr>\n",
              "      <th>RES.</th>\n",
              "      <td>0</td>\n",
              "    </tr>\n",
              "    <tr>\n",
              "      <th>SIZE</th>\n",
              "      <td>0</td>\n",
              "    </tr>\n",
              "    <tr>\n",
              "      <th>FOCUS</th>\n",
              "      <td>0</td>\n",
              "    </tr>\n",
              "    <tr>\n",
              "      <th>Region</th>\n",
              "      <td>0</td>\n",
              "    </tr>\n",
              "    <tr>\n",
              "      <th>Location</th>\n",
              "      <td>0</td>\n",
              "    </tr>\n",
              "    <tr>\n",
              "      <th>RANK_2025</th>\n",
              "      <td>0</td>\n",
              "    </tr>\n",
              "    <tr>\n",
              "      <th>Citations_per_Faculty_Rank</th>\n",
              "      <td>0</td>\n",
              "    </tr>\n",
              "    <tr>\n",
              "      <th>Faculty_Student_Rank</th>\n",
              "      <td>0</td>\n",
              "    </tr>\n",
              "    <tr>\n",
              "      <th>Citations_per_Faculty_Score</th>\n",
              "      <td>0</td>\n",
              "    </tr>\n",
              "    <tr>\n",
              "      <th>Employer_Reputation_Rank</th>\n",
              "      <td>0</td>\n",
              "    </tr>\n",
              "    <tr>\n",
              "      <th>Faculty_Student_Score</th>\n",
              "      <td>0</td>\n",
              "    </tr>\n",
              "    <tr>\n",
              "      <th>Employment_Outcomes_Score</th>\n",
              "      <td>0</td>\n",
              "    </tr>\n",
              "    <tr>\n",
              "      <th>Employment_Outcomes_Rank</th>\n",
              "      <td>0</td>\n",
              "    </tr>\n",
              "  </tbody>\n",
              "</table>\n",
              "</div><br><label><b>dtype:</b> int64</label>"
            ]
          },
          "metadata": {},
          "execution_count": 6
        }
      ],
      "source": [
        "df.isnull().sum().sort_values(ascending=False)"
      ]
    },
    {
      "cell_type": "markdown",
      "metadata": {
        "id": "HSB2espZbuqC"
      },
      "source": [
        "### Clean the Data\n",
        "We will use two different methods to deal with columns with null values. For the \"Overall_Score\" column, we will only use this attribute to analyze the top 600 universities, as those are the schools that were given an overall score by QS. For all other columns, we will exclude rows with null values only for any queries involving the attribute in question. This will better maintain the integrity of the data than filling null values with the median or mean of the column, as carelessly filling values with summary statistics could misrepresent the outputs of our queries. Additionally, there are relatively few rows with null values for any given attribute in the grand scheme of the dataset, so the results of our queries will remain reliable."
      ]
    },
    {
      "cell_type": "code",
      "execution_count": 7,
      "metadata": {
        "id": "lIadiWwDbvbA"
      },
      "outputs": [],
      "source": [
        "# Clean column names\n",
        "df.columns = df.columns.str.strip().str.lower()\n",
        "\n",
        "# Clean and convert the rank columns\n",
        "df[\"rank_2025\"] = df[\"rank_2025\"].astype(str).str.replace(\"=\", \"\").str.extract(r\"(\\d+)\").astype(\"Int64\")\n",
        "df[\"rank_2024\"] = df[\"rank_2024\"].astype(str).str.replace(\"=\", \"\").str.extract(r\"(\\d+)\").astype(\"Int64\")\n",
        "\n",
        "# Clean and convert the \"sustainability_score\" column\n",
        "df[\"sustainability_score\"] = pd.to_numeric(\n",
        "    df[\"sustainability_score\"]\n",
        "    .astype(str)\n",
        "    .str.replace(\"=\", \"\", regex=False),\n",
        "    errors=\"coerce\"\n",
        ")\n",
        "\n",
        "# Convert the \"overall_score\" column to numeric\n",
        "df[\"overall_score\"] = pd.to_numeric(df[\"overall_score\"], errors=\"coerce\")\n",
        "\n",
        "# Clean and convert \"rank\" columns with + signs\n",
        "rank_cols = [col for col in df.columns if \"rank\" in col.lower()]\n",
        "\n",
        "for col in rank_cols:\n",
        "    df[col] = pd.to_numeric(\n",
        "        df[col].astype(str).str.replace(\"+\", \"\", regex=False),\n",
        "        errors=\"coerce\"\n",
        "    )\n",
        "\n",
        "# Rename and fill values in the \"status\" column\n",
        "df[\"status\"] = df[\"status\"].replace({\n",
        "    \"A\": \"Public\",\n",
        "    \"B\": \"Private\",\n",
        "    \"C\": \"Unknown\"\n",
        "}).fillna(\"Unknown\")\n"
      ]
    },
    {
      "cell_type": "markdown",
      "metadata": {
        "id": "7XbeQPNqcAO7"
      },
      "source": [
        "To clean the data, we need to do a few things. First, we strip the column names of any white space and set them to lowercase to ensure easy access in future code. Then, we make sure that each value in the rank_2024 and rank_2025 columns is a single float value instead of a range like \"601-610\". After that, we clean the sustainability_score and any columns with \"rank\" in the name, removing any \"+\" or \"=\" signs in the cell values and ensuring the values are numeric. Finally, we improve the clarity of the status column, replacing values of \"A\", \"B\", and \"C\" with \"Public\", \"Private\", and \"Unkown\", respectively, as well as filling null values with \"Unknown\"."
      ]
    },
    {
      "cell_type": "markdown",
      "metadata": {
        "id": "4Fbzl0z5cxdj"
      },
      "source": [
        "## **6. Data Analysis**\n",
        "### Filtering, Intepretation, and Visualization of Data:\n",
        "\n"
      ]
    },
    {
      "cell_type": "markdown",
      "metadata": {
        "id": "OUBTZ5gUc2IN"
      },
      "source": [
        "### 1. Top 100 Universities By Country\n",
        "\n",
        "---\n",
        "\n",
        "\n"
      ]
    },
    {
      "cell_type": "code",
      "execution_count": 8,
      "metadata": {
        "colab": {
          "base_uri": "https://localhost:8080/"
        },
        "id": "RVN2JbtRc-KL",
        "outputId": "03e9e993-3997-4b65-e188-34737baabc71"
      },
      "outputs": [
        {
          "output_type": "stream",
          "name": "stdout",
          "text": [
            "location\n",
            "United States       25\n",
            "United Kingdom      15\n",
            "Australia            9\n",
            "Hong Kong SAR        5\n",
            "China (Mainland)     5\n",
            "South Korea          5\n",
            "Germany              5\n",
            "France               4\n",
            "Canada               4\n",
            "Japan                4\n",
            "Singapore            2\n",
            "Switzerland          2\n",
            "Netherlands          2\n",
            "Sweden               2\n",
            "Malaysia             1\n",
            "New Zealand          1\n",
            "Belgium              1\n",
            "Taiwan               1\n",
            "Argentina            1\n",
            "Ireland              1\n",
            "Brazil               1\n",
            "Chile                1\n",
            "Russia               1\n",
            "Mexico               1\n",
            "Denmark              1\n",
            "Name: count, dtype: int64\n"
          ]
        }
      ],
      "source": [
        "# Select only universities ranked within the top 100\n",
        "top_100 = df[df[\"rank_2025\"] <= 100]\n",
        "\n",
        "# Count the number of top 100 universities in each country\n",
        "top_100_by_country = top_100[\"location\"].value_counts()\n",
        "\n",
        "# print countries and their counts\n",
        "print(top_100_by_country)"
      ]
    },
    {
      "cell_type": "markdown",
      "source": [
        "**Intepretation:** The United States hosts 25 of the Top 100 Universities which is more than any other nation. It is followed by the United Kingdom with 15. The US and UK are dominant hubs of elite higher education."
      ],
      "metadata": {
        "id": "meY4EtIWoWSf"
      }
    },
    {
      "cell_type": "code",
      "source": [
        "# Visualization - Bar Chart:\n",
        "top100 = df[df.rank_2025 <= 100]['location'].value_counts().head(10)\n",
        "plt.figure(figsize=(8,4))\n",
        "plt.bar(top100.index, top100.values)\n",
        "plt.xticks(rotation=45)\n",
        "plt.title('Top 10 Countries by Number of Top-100 Universities')\n",
        "plt.ylabel('Count')\n",
        "plt.show()"
      ],
      "metadata": {
        "colab": {
          "base_uri": "https://localhost:8080/",
          "height": 470
        },
        "id": "O0DQumzhuAo1",
        "outputId": "8119c53c-cd2e-43a6-87a0-eeae18cad6d5"
      },
      "execution_count": 9,
      "outputs": [
        {
          "output_type": "display_data",
          "data": {
            "text/plain": [
              "<Figure size 800x400 with 1 Axes>"
            ],
            "image/png": "[encoded data removed]"
          },
          "metadata": {}
        }
      ]
    },
    {
      "cell_type": "markdown",
      "metadata": {
        "id": "6pc1zap-dlxq"
      },
      "source": [
        "### 2. Average Overall Score by Region (Top 600)\n",
        "\n",
        "---\n",
        "\n"
      ]
    },
    {
      "cell_type": "code",
      "execution_count": 10,
      "metadata": {
        "colab": {
          "base_uri": "https://localhost:8080/"
        },
        "id": "ZgZdokiJdxSI",
        "outputId": "fee0582e-dc82-47f5-8d02-a5332bd161ea"
      },
      "outputs": [
        {
          "output_type": "stream",
          "name": "stdout",
          "text": [
            "region\n",
            "Oceania     47.323077\n",
            "Americas    47.178862\n",
            "Europe      41.023887\n",
            "Asia        38.607143\n",
            "Africa      32.911111\n",
            "Name: overall_score, dtype: float64\n"
          ]
        }
      ],
      "source": [
        "# Select only universities ranked within the top 600\n",
        "top_600 = df[df[\"rank_2025\"] <= 600]\n",
        "\n",
        "# Take the mean of the overall scores of the universities in each region\n",
        "avg_score_by_region = top_600.groupby(\"region\")[\"overall_score\"].mean()\n",
        "\n",
        "# Sort the countries by mean descending\n",
        "avg_score_by_region = avg_score_by_region.sort_values(ascending=False)\n",
        "\n",
        "# Print the regions and scores in descending order\n",
        "print(avg_score_by_region)"
      ]
    },
    {
      "cell_type": "markdown",
      "source": [
        "**Intepretation:** Oceania leads with an average overall score of 47.32, closely followed by the Americas with 47.18, while regions such as Africa average around 33. This indicates a significant regional performance gaps."
      ],
      "metadata": {
        "id": "SlIXGPcbolxt"
      }
    },
    {
      "cell_type": "code",
      "source": [
        "# Intepretation: Bar Chart\n",
        "top600 = df[df.rank_2025 <= 600]\n",
        "avg_region = top600.groupby('region')['overall_score'].mean().sort_values(ascending=False)\n",
        "plt.figure(figsize=(8,4))\n",
        "plt.bar(avg_region.index, avg_region.values)\n",
        "plt.xticks(rotation=45)\n",
        "plt.title('Average Overall Score by Region (Top 600)')\n",
        "plt.ylabel('Average Score')\n",
        "plt.show()"
      ],
      "metadata": {
        "colab": {
          "base_uri": "https://localhost:8080/",
          "height": 432
        },
        "id": "cO2SwTY6MtVJ",
        "outputId": "923359ee-d6f7-4ab1-8bf3-eb2b6f49de1d"
      },
      "execution_count": 11,
      "outputs": [
        {
          "output_type": "display_data",
          "data": {
            "text/plain": [
              "<Figure size 800x400 with 1 Axes>"
            ],
            "image/png": "[encoded data removed]"
          },
          "metadata": {}
        }
      ]
    },
    {
      "cell_type": "markdown",
      "source": [
        "### 3. Year-Over-Year Rank Increase (2024-2025)\n",
        "\n",
        "---\n",
        "\n"
      ],
      "metadata": {
        "id": "Zd_AYDAne6I6"
      }
    },
    {
      "cell_type": "code",
      "source": [
        "# Filter out rows with missing 2024 rank data\n",
        "ranked_both_years = df[df[\"rank_2024\"].notna()]\n",
        "\n",
        "# Create a new data frame including only rows where the rank has improved between years\n",
        "improved = ranked_both_years[ranked_both_years[\"rank_2025\"] < ranked_both_years[\"rank_2024\"]].copy()\n",
        "\n",
        "# Ensure rank 2024 is type int\n",
        "improved[\"rank_2024\"] = improved[\"rank_2024\"].astype(\"Int64\")\n",
        "\n",
        "# Create a new row indicating how much a university's rank improved\n",
        "improved[\"rank_change\"] = improved[\"rank_2024\"] - improved[\"rank_2025\"]\n",
        "\n",
        "# Print only relevant attributes of the new data frame\n",
        "print(improved[[\"institution_name\", \"rank_2024\", \"rank_2025\", \"rank_change\"]])"
      ],
      "metadata": {
        "colab": {
          "base_uri": "https://localhost:8080/"
        },
        "id": "DhRlDf4pfFWG",
        "outputId": "8d28f03c-6855-432f-b161-0d637b36c590"
      },
      "execution_count": 12,
      "outputs": [
        {
          "output_type": "stream",
          "name": "stdout",
          "text": [
            "                                      institution_name  rank_2024  rank_2025  \\\n",
            "1                              Imperial College London          6          2   \n",
            "9         California Institute of Technology (Caltech)         15         10   \n",
            "10                          University of Pennsylvania         12         11   \n",
            "12                         The University of Melbourne         14         13   \n",
            "13                                   Peking University         17         14   \n",
            "...                                                ...        ...        ...   \n",
            "1323                           Universidad de Tarapaca       1401       1201   \n",
            "1335  Universidad Nacional Autónoma de Honduras (UNAH)       1401       1201   \n",
            "1341                      Universidad Nacional del Sur       1401       1201   \n",
            "1351       Universidade Federal do Rio Grande Do Norte       1401       1201   \n",
            "1368                          University of Kragujevac       1401       1201   \n",
            "\n",
            "      rank_change  \n",
            "1               4  \n",
            "9               5  \n",
            "10              1  \n",
            "12              1  \n",
            "13              3  \n",
            "...           ...  \n",
            "1323          200  \n",
            "1335          200  \n",
            "1341          200  \n",
            "1351          200  \n",
            "1368          200  \n",
            "\n",
            "[461 rows x 4 columns]\n"
          ]
        }
      ]
    },
    {
      "cell_type": "markdown",
      "source": [
        "**Intepretation:** Among universities present in both years, Califoria Institute of Technology improved by 5 places, revealing which institutions gained momentum from 2024 to 2025."
      ],
      "metadata": {
        "id": "MDp8yx6WsA6Y"
      }
    },
    {
      "cell_type": "markdown",
      "source": [
        "### 4. Sustainability Scores: Public vs Private Universities\n",
        "\n",
        "---\n",
        "\n"
      ],
      "metadata": {
        "id": "bSzDO7_Yg4eT"
      }
    },
    {
      "cell_type": "code",
      "source": [
        "# Filter out rows with missing sustainability scores\n",
        "sustainability_by_type = df[df[\"sustainability_score\"].notna()]\n",
        "\n",
        "# Group by \"status\" and calculate both mean and median\n",
        "sustainability_stats = sustainability_by_type.groupby(\"status\")[\"sustainability_score\"].agg([\"mean\", \"median\"])\n",
        "\n",
        "# Sort the university types by mean descending\n",
        "sustainability_stats = sustainability_stats.sort_values(by=\"mean\", ascending=False)\n",
        "\n",
        "# Print the mean and median by unversity type\n",
        "print(sustainability_stats)"
      ],
      "metadata": {
        "colab": {
          "base_uri": "https://localhost:8080/"
        },
        "id": "wowsfrqUg-Qg",
        "outputId": "302632a7-d157-41fc-a645-3493bd17e3d2"
      },
      "execution_count": null,
      "outputs": [
        {
          "output_type": "stream",
          "name": "stdout",
          "text": [
            "              mean  median\n",
            "status                    \n",
            "Public   27.031665    9.50\n",
            "Private  18.321429    2.95\n",
            "Unknown   4.422989    1.20\n"
          ]
        }
      ]
    },
    {
      "cell_type": "markdown",
      "source": [
        "**Intepretation:** Public universities average a sustainability score of 27.0 compared to 18.3 for private universities. This suggests that public schools in this dataset implement stronger sustainability practices. It is important to note that outliers could influence the score for private institutions as displayed by the graph below."
      ],
      "metadata": {
        "id": "qTEdJXA_sYlV"
      }
    },
    {
      "cell_type": "code",
      "source": [
        "# Visualization - Boxplot\n",
        "sust = df[['status','sustainability_score']].dropna()\n",
        "plt.figure(figsize=(6,4))\n",
        "plt.boxplot([sust[sust.status=='Public'].sustainability_score,\n",
        "             sust[sust.status=='Private'].sustainability_score],\n",
        "            ticklabels=['Public','Private'])\n",
        "plt.title('Sustainability Scores by University Status')\n",
        "plt.ylabel('Sustainability Score')\n",
        "plt.show()"
      ],
      "metadata": {
        "colab": {
          "base_uri": "https://localhost:8080/",
          "height": 446
        },
        "id": "g0P1hoXXOEJ5",
        "outputId": "04908363-c683-4a9d-be06-a880c02f8f5e"
      },
      "execution_count": 13,
      "outputs": [
        {
          "output_type": "stream",
          "name": "stderr",
          "text": [
            "<ipython-input-13-984f17b48a13>:4: MatplotlibDeprecationWarning: The 'labels' parameter of boxplot() has been renamed 'tick_labels' since Matplotlib 3.9; support for the old name will be dropped in 3.11.\n",
            "  plt.boxplot([sust[sust.status=='Public'].sustainability_score,\n"
          ]
        },
        {
          "output_type": "display_data",
          "data": {
            "text/plain": [
              "<Figure size 600x400 with 1 Axes>"
            ],
            "image/png": "[encoded data removed]"
          },
          "metadata": {}
        }
      ]
    },
    {
      "cell_type": "markdown",
      "source": [
        "### 5. Perfect Academic Reputation Scores (count = 100)\n",
        "\n",
        "---\n",
        "\n"
      ],
      "metadata": {
        "id": "rUqL8N3ahRrK"
      }
    },
    {
      "cell_type": "code",
      "source": [
        "# Select only rows with an academic reputation score of 100 (a perfect score)\n",
        "perfect_reputation = df[df[\"academic_reputation_score\"] == 100]\n",
        "\n",
        "# Print the name and score of each university with a perfect score\n",
        "print(perfect_reputation[[\"rank_2025\", \"institution_name\", \"academic_reputation_score\"]])"
      ],
      "metadata": {
        "colab": {
          "base_uri": "https://localhost:8080/"
        },
        "id": "4iZYLD2DkeKf",
        "outputId": "85d208fb-c01e-4a3a-e107-b1fa68ad4b21"
      },
      "execution_count": 14,
      "outputs": [
        {
          "output_type": "stream",
          "name": "stdout",
          "text": [
            "    rank_2025                              institution_name  \\\n",
            "0           1  Massachusetts Institute of Technology (MIT)    \n",
            "2           3                          University of Oxford   \n",
            "3           4                            Harvard University   \n",
            "4           5                       University of Cambridge   \n",
            "5           6                           Stanford University   \n",
            "11         12      University of California, Berkeley (UCB)   \n",
            "32         32                       The University of Tokyo   \n",
            "41         42  University of California, Los Angeles (UCLA)   \n",
            "\n",
            "    academic_reputation_score  \n",
            "0                       100.0  \n",
            "2                       100.0  \n",
            "3                       100.0  \n",
            "4                       100.0  \n",
            "5                       100.0  \n",
            "11                      100.0  \n",
            "32                      100.0  \n",
            "41                      100.0  \n"
          ]
        }
      ]
    },
    {
      "cell_type": "markdown",
      "source": [
        "**Intepretation:** Universities with the highest academic reputation scores are located in the US, with 5 dominating the list. University of Oxford and University of Cambridge are in the UK, and the University of Tokyo is in Asia. This could correlate back to Analysis #1 where the data indicated that the US and UK dominated the college scene."
      ],
      "metadata": {
        "id": "rEfThrw3Aodf"
      }
    },
    {
      "cell_type": "markdown",
      "source": [
        "### 6. Count by University Sizes\n",
        "\n",
        "---\n",
        "\n"
      ],
      "metadata": {
        "id": "fEkjgRCzkj1S"
      }
    },
    {
      "cell_type": "code",
      "source": [
        "# Get the counts of each size university\n",
        "size_counts = df[\"size\"].value_counts()\n",
        "\n",
        "# Reorder the data frame in size order descending\n",
        "ordered_sizes = size_counts.reindex([\"XL\", \"L\", \"M\", \"S\"])\n",
        "\n",
        "# Output the size counts\n",
        "print(ordered_sizes)"
      ],
      "metadata": {
        "colab": {
          "base_uri": "https://localhost:8080/"
        },
        "id": "8zi-P6O9kuP-",
        "outputId": "e476e48f-6dd7-4e87-d814-f9859ea19f48"
      },
      "execution_count": 16,
      "outputs": [
        {
          "output_type": "stream",
          "name": "stdout",
          "text": [
            "size\n",
            "XL    352\n",
            "L     691\n",
            "M     372\n",
            "S      88\n",
            "Name: count, dtype: int64\n"
          ]
        }
      ]
    },
    {
      "cell_type": "markdown",
      "source": [
        "**Intepretation:** Large campuses (L) account for 691 universities, followed by medium (M) with 372, extra‑large (XL) with 352, and small (S) with 88. This reflects that most ranked institutions are large."
      ],
      "metadata": {
        "id": "ueqOgriRs1gF"
      }
    },
    {
      "cell_type": "markdown",
      "source": [
        "### 7. Top Cited Research Universities\n",
        "\n",
        "---\n",
        "\n"
      ],
      "metadata": {
        "id": "ISf21I6EkyxM"
      }
    },
    {
      "cell_type": "code",
      "source": [
        "# sort the data frame by highest citation per faculty score\n",
        "top_citations = df.sort_values(by=\"citations_per_faculty_score\", ascending = False)\n",
        "\n",
        "# print the rank, name, score of the first top 10 universities by citation per faculty score\n",
        "print(top_citations[[\"rank_2025\", \"institution_name\", \"citations_per_faculty_score\"]].head(10))"
      ],
      "metadata": {
        "colab": {
          "base_uri": "https://localhost:8080/"
        },
        "id": "0j9NsMUhk5Of",
        "outputId": "1a06c019-f4c4-405d-a381-936cf510fcd9"
      },
      "execution_count": 17,
      "outputs": [
        {
          "output_type": "stream",
          "name": "stdout",
          "text": [
            "     rank_2025                                   institution_name  \\\n",
            "0            1       Massachusetts Institute of Technology (MIT)    \n",
            "9           10       California Institute of Technology (Caltech)   \n",
            "3            4                                 Harvard University   \n",
            "61          62                       City University of Hong Kong   \n",
            "358        359  Gwangju Institute of Science and Technology (G...   \n",
            "382        383                                    Anna University   \n",
            "402        403                 Amirkabir University of Technology   \n",
            "21          22                               Princeton University   \n",
            "182        183                       Hamad Bin Khalifa University   \n",
            "325        326  Daegu Gyeongbuk Institute of Science and Techn...   \n",
            "\n",
            "     citations_per_faculty_score  \n",
            "0                          100.0  \n",
            "9                          100.0  \n",
            "3                          100.0  \n",
            "61                         100.0  \n",
            "358                        100.0  \n",
            "382                        100.0  \n",
            "402                        100.0  \n",
            "21                         100.0  \n",
            "182                        100.0  \n",
            "325                         99.9  \n"
          ]
        }
      ]
    },
    {
      "cell_type": "markdown",
      "source": [
        "**Intepretation:** MIT, Caltech, and Harvard top the list in citations per faculty. Each institute score 100 which highlights their research impact."
      ],
      "metadata": {
        "id": "72OjoMX4s63o"
      }
    },
    {
      "cell_type": "markdown",
      "source": [
        "### 8. Highest International Student Ratio\n",
        "\n",
        "\n",
        "---\n",
        "\n"
      ],
      "metadata": {
        "id": "lqWkOpuylaRZ"
      }
    },
    {
      "cell_type": "code",
      "source": [
        "# Sort the data frame by highest international student ratio\n",
        "top_international_students = df.sort_values(by=\"international_students_score\", ascending=False)\n",
        "\n",
        "# Print the rank, name, and score of the first top 10 universities by international student ratio\n",
        "print(top_international_students[[\"rank_2025\", \"institution_name\", \"international_students_score\"]].head(10))"
      ],
      "metadata": {
        "colab": {
          "base_uri": "https://localhost:8080/"
        },
        "id": "j2ofq76elfZl",
        "outputId": "8564738c-41ac-4ddd-9278-759c51291192"
      },
      "execution_count": 18,
      "outputs": [
        {
          "output_type": "stream",
          "name": "stdout",
          "text": [
            "      rank_2025                                   institution_name  \\\n",
            "25           26                                               EPFL   \n",
            "17           18                           The University of Sydney   \n",
            "1056       1001                     London Metropolitan University   \n",
            "463         464         Macau University of Science and Technology   \n",
            "51           50  The London School of Economics and Political S...   \n",
            "802         801                        Al-Ahliyya Amman University   \n",
            "748         741                          University of Westminster   \n",
            "61           62                       City University of Hong Kong   \n",
            "890         851                        University of Hertfordshire   \n",
            "40           40                       The University of Queensland   \n",
            "\n",
            "      international_students_score  \n",
            "25                           100.0  \n",
            "17                           100.0  \n",
            "1056                         100.0  \n",
            "463                          100.0  \n",
            "51                           100.0  \n",
            "802                          100.0  \n",
            "748                          100.0  \n",
            "61                           100.0  \n",
            "890                          100.0  \n",
            "40                           100.0  \n"
          ]
        }
      ]
    },
    {
      "cell_type": "markdown",
      "source": [
        "**Intepretation:** EPFL and the University of Sydney lead with perfect international student scores of 100. This indicates that these campuses are the most globally diverse."
      ],
      "metadata": {
        "id": "UhhcbMSVtQP-"
      }
    },
    {
      "cell_type": "code",
      "source": [
        "# Scatter\n",
        "plt.figure(figsize=(6,4))\n",
        "plt.scatter(df.overall_score, df.international_students_score, alpha=0.5)\n",
        "plt.title('Overall Score vs. International Student Score')\n",
        "plt.xlabel('Overall Score')\n",
        "plt.ylabel('International Student Score')\n",
        "plt.show()"
      ],
      "metadata": {
        "colab": {
          "base_uri": "https://localhost:8080/",
          "height": 410
        },
        "id": "m2CPYoQBvIqR",
        "outputId": "ab157633-a7e3-4bc3-9ba8-b0ad008a71e3"
      },
      "execution_count": 19,
      "outputs": [
        {
          "output_type": "display_data",
          "data": {
            "text/plain": [
              "<Figure size 600x400 with 1 Axes>"
            ],
            "image/png": "[encoded data removed]"
          },
          "metadata": {}
        }
      ]
    },
    {
      "cell_type": "markdown",
      "source": [
        "## **7. Key Takeaways**\n",
        "#### **Limitation:**\n",
        "\n",
        "\n",
        "1. Missing overall_score for many universities.\n",
        "2. Fundings and external (government) and institutional policies could influence the overall scores.\n",
        "3. Some universities might not report data for certain metrics that were taken into account.\n",
        "\n",
        "#### **Conclusion:**\n",
        "\n",
        "*   This analysis illustrates how global higher-education excellence remains concentrated in regions and showcases how certain institutions continue to dominate, yet also reveals important areas for growth. The US and UK collectively host over a third of the world's Top 100 Universities. This indicates their leadership but also highlights the competitive potential of other nations. Regional average scores shows that the difference between continents in terms of education presents untapped opportunities for capacity building and targeted investment to strengthen educational quality across the world. The sustainability comparison suggests that public institutions in this dataset outperform private ones. Morover, the correlation between research citations, overall score and internation student diversity clearly indicates to the importance of integrating scholarships and global engagements between institutions across the world.\n",
        "*   Future research can be done to explore other important key factors such as\n",
        " fundings, faculty quality, student outcomes, etc. and how these drivers impact the overall performances of institutions across the world.\n",
        "\n"
      ],
      "metadata": {
        "id": "zpGsfEirHQiz"
      }
    }
  ],
  "metadata": {
    "colab": {
      "provenance": []
    },
    "kernelspec": {
      "display_name": "Python 3",
      "name": "python3"
    },
    "language_info": {
      "name": "python"
    }
  },
  "nbformat": 4,
  "nbformat_minor": 0
}
